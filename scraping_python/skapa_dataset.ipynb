{
 "cells": [
  {
   "cell_type": "code",
   "execution_count": null,
   "metadata": {},
   "outputs": [],
   "source": [
    "import os\n",
    "import pandas as pd\n",
    "from tabulate import tabulate\n",
    "\n",
    "def create_excel_dataset():\n",
    "    data = {}\n",
    "    base_path = \"cars_test\"\n",
    "\n",
    "    for folder in os.listdir(base_path):\n",
    "        folder_path = os.path.join(base_path, folder)\n",
    "        if not os.path.isdir(folder_path):\n",
    "            continue\n",
    "\n",
    "        data[folder] = {}\n",
    "\n",
    "        for file in os.listdir(folder_path):\n",
    "            if file.endswith(\".txt\"):\n",
    "                file_path = os.path.join(folder_path, file)\n",
    "                with open(file_path, 'r', encoding='utf-8') as f:\n",
    "                    content = f.read().strip()\n",
    "                    column_name = file.replace(\".txt\", \"\")\n",
    "                    data[folder][column_name] = content\n",
    "\n",
    "    df = pd.DataFrame.from_dict(data, orient='index')\n",
    "    df.index.name = \"Observation\"\n",
    "    df.to_excel(\"dataset_geisol.xlsx\")\n",
    "    return df\n",
    "\n",
    "# show the first 5 rows of the dataset\n",
    "df = create_excel_dataset()\n",
    "print(tabulate(df.head(), headers='keys', tablefmt='psql'))\n"
   ]
  }
 ],
 "metadata": {
  "kernelspec": {
   "display_name": ".venv",
   "language": "python",
   "name": "python3"
  },
  "language_info": {
   "name": "python",
   "version": "3.9.21"
  }
 },
 "nbformat": 4,
 "nbformat_minor": 2
}
